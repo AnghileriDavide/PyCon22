{
 "cells": [
  {
   "cell_type": "code",
   "execution_count": 12,
   "id": "9778a372",
   "metadata": {},
   "outputs": [],
   "source": [
    "import math\n",
    "import random\n",
    "from functools import partial\n",
    "from typing import Callable, TypeAlias"
   ]
  },
  {
   "cell_type": "code",
   "execution_count": 13,
   "id": "4c2b3c5a",
   "metadata": {},
   "outputs": [],
   "source": [
    "Individual: TypeAlias = list[int]\n",
    "Population: TypeAlias = list[Individual]\n",
    "\n",
    "def generate_individual(length: int) -> Individual:\n",
    "    random.shuffle(individual := list(range(1, length + 1)))\n",
    "    return individual\n",
    "\n",
    "\n",
    "def generate_population(pop_size: int, individual_length: int) -> Population:\n",
    "    return [generate_individual(individual_length) for _ in range(pop_size)]"
   ]
  },
  {
   "cell_type": "code",
   "execution_count": 14,
   "id": "621c7ebb",
   "metadata": {},
   "outputs": [],
   "source": [
    "FitnessFunc: TypeAlias = Callable[[Individual], int]\n",
    "\n",
    "def fitness(individual: Individual) -> int:\n",
    "    clashes = 0\n",
    "    for i in range(len(individual) - 1):\n",
    "        for j in range(i + 1, len(individual)):\n",
    "            if abs(individual[j] - individual[i]) == j - i:\n",
    "                clashes += 1\n",
    "    return clashes"
   ]
  },
  {
   "cell_type": "code",
   "execution_count": 15,
   "id": "8552148a",
   "metadata": {},
   "outputs": [],
   "source": [
    "IndividualPair: TypeAlias = tuple[Individual, Individual]\n",
    "SelectionFunc: TypeAlias = Callable[[Population, FitnessFunc], IndividualPair]\n",
    "\n",
    "def roulette_selection(population: Population, fitness: FitnessFunc) -> IndividualPair:\n",
    "    parents = random.choices(\n",
    "        population=population,\n",
    "        weights=[fitness(individual) for individual in population],\n",
    "        k=2,\n",
    "    )\n",
    "    return parents[0], parents[1]"
   ]
  },
  {
   "cell_type": "code",
   "execution_count": 16,
   "id": "bf42e1cb",
   "metadata": {},
   "outputs": [],
   "source": [
    "CrossoverFunc: TypeAlias = Callable[[IndividualPair], IndividualPair]\n",
    "\n",
    "def ordered_crossover(parents: IndividualPair) -> IndividualPair:\n",
    "    parent_a, parent_b = parents\n",
    "    split_idx = random.randint(1, len(parent_a) - 1)\n",
    "    offspring_x = parent_a[:split_idx] + list(\n",
    "        filter(lambda pos: pos not in parent_a[:split_idx], parent_b)\n",
    "    )\n",
    "    offspring_y = parent_b[:split_idx] + list(\n",
    "        filter(lambda pos: pos not in parent_b[:split_idx], parent_a)\n",
    "    )\n",
    "    return offspring_x, offspring_y"
   ]
  },
  {
   "cell_type": "code",
   "execution_count": 17,
   "id": "bda40311",
   "metadata": {},
   "outputs": [],
   "source": [
    "MutationFunc: TypeAlias = Callable[[Individual, float], Individual]\n",
    "\n",
    "def swap_mutation(individual: Individual, probability: float) -> Individual:\n",
    "    if random.random() <= probability:\n",
    "        pos1 = random.randint(0, len(individual) - 1)\n",
    "        pos2 = random.randint(0, len(individual) - 1)\n",
    "        individual[pos1], individual[pos2] = individual[pos2], individual[pos1]\n",
    "    return individual"
   ]
  },
  {
   "cell_type": "code",
   "execution_count": 18,
   "outputs": [],
   "source": [
    "def compute_next_generation(population: list[Individual], mutation_prob: float = 0.3, n_elites: int = 10):\n",
    "    next_generation = population[:n_elites]\n",
    "    for _ in range(int((len(population) - n_elites) / 2)):\n",
    "        parents = roulette_selection(population, fitness)\n",
    "        offspring = ordered_crossover(parents)\n",
    "        next_generation += map(\n",
    "            partial(swap_mutation, probability=mutation_prob), offspring\n",
    "        )\n",
    "    return next_generation"
   ],
   "metadata": {
    "collapsed": false,
    "pycharm": {
     "name": "#%%\n"
    }
   }
  },
  {
   "cell_type": "code",
   "execution_count": 19,
   "id": "821bf572",
   "metadata": {},
   "outputs": [],
   "source": [
    "def run_evolution(pop_size: int, individual_length: int, fitness_limit: int = 0,\n",
    "    mutation_prob: float = 0.3, n_iter: int = 1000, n_elites: int = 10) -> Individual:\n",
    "\n",
    "    population = generate_population(pop_size, individual_length)\n",
    "    for i in range(n_iter):\n",
    "        population = sorted(population, key=fitness)\n",
    "        print(f\"Generation {i} - Best fitness {fitness(population[0])}\")\n",
    "        if fitness(population[0]) <= fitness_limit:\n",
    "            break\n",
    "        population = compute_next_generation(population, mutation_prob, n_elites)\n",
    "    return sorted(population, key=fitness)[0]"
   ]
  },
  {
   "cell_type": "code",
   "execution_count": 20,
   "id": "ffeb01ee",
   "metadata": {},
   "outputs": [],
   "source": [
    "random.seed(123)  # set the seed for reproducibility"
   ]
  },
  {
   "cell_type": "code",
   "execution_count": null,
   "id": "cdbbcb78",
   "metadata": {
    "pycharm": {
     "is_executing": true
    }
   },
   "outputs": [],
   "source": [
    "best_solution = run_evolution(pop_size=100, individual_length=15)"
   ]
  },
  {
   "cell_type": "code",
   "execution_count": null,
   "id": "7cc532da",
   "metadata": {
    "pycharm": {
     "is_executing": true
    }
   },
   "outputs": [],
   "source": [
    "def view_chessboard(individual: Individual) -> None:\n",
    "    print(f\"\\nNumber of possible solution {math.factorial(len(individual)):,}\")\n",
    "    print(f\"Solution: {individual}\\n\")\n",
    "\n",
    "    for row, _ in enumerate(individual):\n",
    "        for col, _ in enumerate(individual):\n",
    "            cell = \"[Q]\" if individual[col] - 1 == row else \"[ ]\"\n",
    "            print(cell, end=\"\")\n",
    "        print()\n",
    "\n",
    "\n",
    "view_chessboard(best_solution)"
   ]
  },
  {
   "cell_type": "code",
   "execution_count": 22,
   "id": "059588d6",
   "metadata": {},
   "outputs": [],
   "source": []
  }
 ],
 "metadata": {
  "kernelspec": {
   "display_name": "pycon22",
   "language": "python",
   "name": "pycon22"
  },
  "language_info": {
   "codemirror_mode": {
    "name": "ipython",
    "version": 3
   },
   "file_extension": ".py",
   "mimetype": "text/x-python",
   "name": "python",
   "nbconvert_exporter": "python",
   "pygments_lexer": "ipython3",
   "version": "3.10.2"
  }
 },
 "nbformat": 4,
 "nbformat_minor": 5
}