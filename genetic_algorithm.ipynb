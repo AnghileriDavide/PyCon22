{
 "cells": [
  {
   "cell_type": "markdown",
   "id": "6059f607",
   "metadata": {},
   "source": [
    "# Genetic Algorithm from Scratch in Python\n",
    " Solving the 8-Queens problem using Genetic algorithms"
   ]
  },
  {
   "cell_type": "code",
   "execution_count": null,
   "id": "9778a372",
   "metadata": {},
   "outputs": [],
   "source": [
    "import random\n",
    "from functools import partial\n",
    "from typing import Callable, TypeAlias\n",
    "\n",
    "from genetic_algorithm.utils import display_chessboard"
   ]
  },
  {
   "cell_type": "markdown",
   "id": "f69e73c5",
   "metadata": {},
   "source": [
    "<center>Genetic Population</center>\n",
    "\n",
    "![\"Population\"](img/population.png)"
   ]
  },
  {
   "cell_type": "code",
   "execution_count": null,
   "id": "4c2b3c5a",
   "metadata": {},
   "outputs": [],
   "source": [
    "Individual: TypeAlias = list[int]\n",
    "Population: TypeAlias = list[Individual]\n",
    "\n",
    "def generate_individual(length: int) -> Individual:\n",
    "    random.shuffle(individual := list(range(1, length + 1)))\n",
    "    return individual\n",
    "\n",
    "\n",
    "def generate_population(pop_size: int, individual_length: int) -> Population:\n",
    "    return [generate_individual(individual_length) for _ in range(pop_size)]"
   ]
  },
  {
   "cell_type": "markdown",
   "id": "5d212e55",
   "metadata": {},
   "source": [
    "<center>Fitness Function: number of clashes</center>\n",
    "\n",
    "![\"Fitness Function\"](img/fitness.png)"
   ]
  },
  {
   "cell_type": "code",
   "execution_count": null,
   "id": "621c7ebb",
   "metadata": {},
   "outputs": [],
   "source": [
    "FitnessFunc: TypeAlias = Callable[[Individual], int]\n",
    "\n",
    "def fitness(individual: Individual) -> int:\n",
    "    clashes = 0\n",
    "    for i in range(len(individual) - 1):\n",
    "        for j in range(i + 1, len(individual)):\n",
    "            if abs(individual[j] - individual[i]) == j - i:\n",
    "                clashes += 1\n",
    "    return clashes"
   ]
  },
  {
   "cell_type": "markdown",
   "id": "bcf1fc98",
   "metadata": {},
   "source": [
    "<center>Roulette wheel selection</center>\n",
    "\n",
    "![\"Roulette wheel selection\"](img/selection.png)"
   ]
  },
  {
   "cell_type": "code",
   "execution_count": null,
   "id": "8552148a",
   "metadata": {},
   "outputs": [],
   "source": [
    "IndividualPair: TypeAlias = tuple[Individual, Individual]\n",
    "SelectionFunc: TypeAlias = Callable[[Population, FitnessFunc], IndividualPair]\n",
    "\n",
    "def roulette_selection(population: Population, fitness: FitnessFunc) -> IndividualPair:\n",
    "    parents = random.choices(\n",
    "        population=population,\n",
    "        weights=[fitness(individual) for individual in population],\n",
    "        k=2,\n",
    "    )\n",
    "    return parents[0], parents[1]"
   ]
  },
  {
   "cell_type": "markdown",
   "id": "87b05bd4",
   "metadata": {},
   "source": [
    "<center>Ordered crossover</center>\n",
    "\n",
    "![\"Ordered crossover\"](img/crossover.png)"
   ]
  },
  {
   "cell_type": "code",
   "execution_count": null,
   "id": "bf42e1cb",
   "metadata": {},
   "outputs": [],
   "source": [
    "CrossoverFunc: TypeAlias = Callable[[IndividualPair], IndividualPair]\n",
    "\n",
    "def ordered_crossover(parents: IndividualPair) -> IndividualPair:\n",
    "    parent_a, parent_b = parents\n",
    "    split_idx = random.randint(1, len(parent_a) - 1)\n",
    "    offspring_x = parent_a[:split_idx] + list(\n",
    "        filter(lambda pos: pos not in parent_a[:split_idx], parent_b)\n",
    "    )\n",
    "    offspring_y = parent_b[:split_idx] + list(\n",
    "        filter(lambda pos: pos not in parent_b[:split_idx], parent_a)\n",
    "    )\n",
    "    return offspring_x, offspring_y"
   ]
  },
  {
   "cell_type": "markdown",
   "id": "13b3c4d7",
   "metadata": {},
   "source": [
    "<center>Swap mutation</center>\n",
    "\n",
    "![\"Swap mutation\"](img/mutation.png)"
   ]
  },
  {
   "cell_type": "code",
   "execution_count": null,
   "id": "bda40311",
   "metadata": {},
   "outputs": [],
   "source": [
    "MutationFunc: TypeAlias = Callable[[Individual, float], Individual]\n",
    "\n",
    "def swap_mutation(individual: Individual, probability: float) -> Individual:\n",
    "    if random.random() <= probability:\n",
    "        pos1 = random.randint(0, len(individual) - 1)\n",
    "        pos2 = random.randint(0, len(individual) - 1)\n",
    "        individual[pos1], individual[pos2] = individual[pos2], individual[pos1]\n",
    "    return individual"
   ]
  },
  {
   "cell_type": "markdown",
   "id": "892a4ee6",
   "metadata": {},
   "source": [
    "#### The Queen's ambit"
   ]
  },
  {
   "cell_type": "code",
   "execution_count": null,
   "id": "d982cafb",
   "metadata": {
    "pycharm": {
     "name": "#%%\n"
    }
   },
   "outputs": [],
   "source": [
    "def compute_next_generation(population: Population, mutation_prob: float = 0.3, n_elites: int = 10) -> Population:\n",
    "    next_generation = population[:n_elites]\n",
    "    for _ in range(int((len(population) - n_elites) / 2)):\n",
    "        parents = roulette_selection(population, fitness)\n",
    "        offspring = ordered_crossover(parents)\n",
    "        next_generation += map(\n",
    "            partial(swap_mutation, probability=mutation_prob), offspring\n",
    "        )\n",
    "    return next_generation"
   ]
  },
  {
   "cell_type": "code",
   "execution_count": null,
   "id": "821bf572",
   "metadata": {},
   "outputs": [],
   "source": [
    "def run_evolution(pop_size: int, individual_length: int, fitness_limit: int = 0,\n",
    "    mutation_prob: float = 0.3, n_iter: int = 1000, n_elites: int = 10) -> Individual:\n",
    "\n",
    "    population = generate_population(pop_size, individual_length)\n",
    "    for i in range(n_iter):\n",
    "        population = sorted(population, key=fitness)\n",
    "        print(f\"Generation {i} - Best fitness {fitness(population[0])}\")\n",
    "        if fitness(population[0]) <= fitness_limit:\n",
    "            break\n",
    "        population = compute_next_generation(population, mutation_prob, n_elites)\n",
    "    return sorted(population, key=fitness)[0]"
   ]
  },
  {
   "cell_type": "code",
   "execution_count": null,
   "id": "cdbbcb78",
   "metadata": {
    "pycharm": {
     "name": "#%%\n"
    }
   },
   "outputs": [],
   "source": [
    "random.seed(123)  # set the seed for reproducibility\n",
    "\n",
    "best_solution = run_evolution(pop_size=100, individual_length=8, fitness_limit=0)"
   ]
  },
  {
   "cell_type": "code",
   "execution_count": null,
   "id": "7cc532da",
   "metadata": {},
   "outputs": [],
   "source": [
    "display_chessboard(best_solution)"
   ]
  },
  {
   "cell_type": "code",
   "execution_count": null,
   "id": "059588d6",
   "metadata": {},
   "outputs": [],
   "source": []
  }
 ],
 "metadata": {
  "kernelspec": {
   "display_name": "pycon22",
   "language": "python",
   "name": "pycon22"
  },
  "language_info": {
   "codemirror_mode": {
    "name": "ipython",
    "version": 3
   },
   "file_extension": ".py",
   "mimetype": "text/x-python",
   "name": "python",
   "nbconvert_exporter": "python",
   "pygments_lexer": "ipython3",
   "version": "3.10.2"
  }
 },
 "nbformat": 4,
 "nbformat_minor": 5
}